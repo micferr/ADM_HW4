{
 "cells": [
  {
   "cell_type": "markdown",
   "metadata": {
    "collapsed": true,
    "pycharm": {
     "name": "#%% md\n"
    }
   },
   "source": [
    "# Exercise 1"
   ]
  },
  {
   "cell_type": "markdown",
   "source": [
    "# Exercise 3\n",
    "\n",
    "\"You are given a list of integers, A, and another integer s. Write an algorithm that outputs all the pairs in A that equal x.\"\n",
    "\n",
    "Let's start with the simplest algorithm. We simply iterate all pairs and output all those that satisfy the required condition.\n",
    "\n",
    "```python\n",
    "def f(A, s):\n",
    "    result = []\n",
    "    for i in range(len(A)):\n",
    "        for j in range(i+1, len(A)):\n",
    "            if A[i]+A[j] == s:\n",
    "                result.append((A[i], A[s]))\n",
    "    return result\n",
    "```\n",
    "\n",
    "For conciseness, the functions will just return the list of pairs, which can be converted to the output format through\n",
    "\n",
    "```python\n",
    "pairs = f(A,s)\n",
    "print(\", \".join([f\"({a}, {b})\" for a,b in pairs]) if pairs else \"No pairs found\")\n",
    "```\n",
    "\n",
    "Now, the given solution has O(1) space and O(n^2) time complexities.\n",
    "\n",
    "If we want the output pairs to be ordered like in the example, there's little we can do to improve on the algorithm, but what if we just care about finding all valid pairs, regardless of the ordering?\n",
    "\n",
    "Then we can we do better, here is another approach in pseudocode:\n",
    "\n",
    "```python\n",
    "def f(A, s):\n",
    "    heap = build_heap(A)\n",
    "    result = []\n",
    "    for a in A:\n",
    "        if s-a in heap:\n",
    "            result.append((a, s-a))\n",
    "    return result\n",
    "```\n",
    "\n",
    "In short, we build a heap from the array and for each element we use it to quickly check that the element summed to it belongs to the array.\n",
    "\n",
    "Note that, as it's shown above, the algorithm also reports (s/2, s/2), for an even s, even when it only appears once, though this can be quickly patched by appending an occurrence counter to each node when building the heap.\n",
    "\n",
    "This solution has O(n log n) time complexity (O(n log n) to build the heap, plus n times O(log n) accesses to check whether elements are in it) and O(n) space complexity, for the additional space in which to store the heap.\n",
    "\n",
    "If we can sort A, then space complexity is O(1) as we can just heapify it rather than use additional memory.\n",
    "\n",
    "Finally, we get the best result by slightly modifying the algorithm to build and use a hash table rather than a heap.\n",
    "\n",
    "Then the complexities are O(n) in both time and space."
   ],
   "metadata": {
    "collapsed": false,
    "pycharm": {
     "name": "#%% md\n"
    }
   }
  }
 ],
 "metadata": {
  "kernelspec": {
   "display_name": "Python 3",
   "language": "python",
   "name": "python3"
  },
  "language_info": {
   "codemirror_mode": {
    "name": "ipython",
    "version": 2
   },
   "file_extension": ".py",
   "mimetype": "text/x-python",
   "name": "python",
   "nbconvert_exporter": "python",
   "pygments_lexer": "ipython2",
   "version": "2.7.6"
  }
 },
 "nbformat": 4,
 "nbformat_minor": 0
}